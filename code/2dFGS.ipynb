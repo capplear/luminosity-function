{
 "cells": [
  {
   "cell_type": "code",
   "execution_count": 1,
   "id": "1d2fa8f6",
   "metadata": {},
   "outputs": [],
   "source": [
    "from astropy import units as u\n",
    "from astropy.cosmology import LambdaCDM\n",
    "from astropy.constants import L_sun\n",
    "from vedo import Points, Axes, show\n",
    "import matplotlib as mpl\n",
    "mpl.use('pdf')"
   ]
  },
  {
   "cell_type": "code",
   "execution_count": 2,
   "id": "fcfd92ac",
   "metadata": {},
   "outputs": [],
   "source": [
    "Data = pd.read_csv('results27_14_8_55_72.csv', index_col='specid')\n",
    "Data = Data[(Data['bmag'] > 0)  & (Data['z_helio']>0)]\n",
    "\n",
    "cosmo = LambdaCDM(H0=100, Om0=0.3, \n",
    "                  Ode0=0.7)\n",
    "def D_C(z):\n",
    "    return cosmo.comoving_distance(z).value\n",
    "\n",
    "def D_L(z):\n",
    "    return cosmo.luminosity_distance(z).value\n",
    "Data['D C/Mpc'] = Data['z_helio'].map(D_C)\n",
    "Data['D L/Mpc'] = Data['z_helio'].map(D_L)\n",
    "Data.columns = [idx.replace('_', ' ') for idx in Data.columns]\n",
    "\n",
    "def Mb(bmag, z):\n",
    "    K = 2.6 * z + 4.3 * z ** 2\n",
    "    mu = 5 * np.log10((cosmo.luminosity_distance(z).to(u.pc)/(10 * u.pc)).value)\n",
    "    return bmag - mu - K\n",
    "Data['Mb'] = list(map(Mb, *Data[['bmag', 'z helio']].values.T))\n",
    "Data['L rel to sun'] = Data['Mb'].map(lambda Mb: 10 ** ((Mb- 5.31)/(-2.5)) * L_sun.to(u.erg/u.s).value)\n",
    "def dVdz(z):\n",
    "    return ((cosmo.differential_comoving_volume(z)* 17046 *u.deg * u.deg).to(u.mpc ** 3)/(1e36 * u.mpc ** 3)).value\n",
    "Data.loc[:, 'dVdz'] = Data['z helio'].map(dVdz)\n"
   ]
  },
  {
   "cell_type": "code",
   "execution_count": 71,
   "id": "116172ec",
   "metadata": {},
   "outputs": [],
   "source": [
    "Data['L rel to sun'] = Data['Mb'].map(lambda Mb: 10 ** ((Mb- 5.31)/(-2.5)) * L_sun.to(u.erg/u.s).value)\n",
    "Data['log L rel'] = Data['L rel to sun'].map(np.log10)\n",
    "\n",
    "def dVdz(z):\n",
    "    return ((cosmo.differential_comoving_volume(z)* 17046 *u.deg * u.deg).to(u.mpc ** 3)/(1e36 * u.mpc ** 3)).value\n",
    "Data.loc[:, 'dVdz'] = Data['z helio'].map(dVdz)\n",
    "\n",
    "data = Data[(Data['z helio'] < 0.11) & (Data['dVdz']>0)]"
   ]
  },
  {
   "cell_type": "code",
   "execution_count": 58,
   "id": "41207380",
   "metadata": {},
   "outputs": [
    {
     "name": "stderr",
     "output_type": "stream",
     "text": [
      "C:\\Users\\ASUS\\anaconda3\\lib\\site-packages\\pandas\\core\\indexing.py:1773: SettingWithCopyWarning: \n",
      "A value is trying to be set on a copy of a slice from a DataFrame.\n",
      "Try using .loc[row_indexer,col_indexer] = value instead\n",
      "\n",
      "See the caveats in the documentation: https://pandas.pydata.org/pandas-docs/stable/user_guide/indexing.html#returning-a-view-versus-a-copy\n",
      "  self._setitem_single_column(ilocs[0], value, pi)\n"
     ]
    }
   ],
   "source": [
    "def mis(L, z):\n",
    "    if 5.31 - 2.5 * np.log10(L/L_sun.to(u.erg/u.s).value) \\\n",
    "    + 5 * np.log10((cosmo.luminosity_distance(z).to(u.pc)/(10 * u.pc)).value) \\\n",
    "    + 2.6 * z + 4.3 * z ** 2 > 18:\n",
    "        return 1\n",
    "    else:\n",
    "        return 0\n",
    "data.loc[:, 'select'] = list(map(mis, *data[['L rel to sun', 'z helio']].values.T))"
   ]
  },
  {
   "cell_type": "code",
   "execution_count": 59,
   "id": "7f7d4e2b",
   "metadata": {},
   "outputs": [],
   "source": [
    "def L_lim(z):\n",
    "    return np.log10((L_sun.to(u.erg /u.s).value) *10 ** ((5.31-18+ 5*np.log10((cosmo.luminosity_distance(z).to(u.pc)/(10 * u.pc)).value)+ (2.6 * z + 4.3 * z ** 2))/2.5))"
   ]
  },
  {
   "cell_type": "code",
   "execution_count": 60,
   "id": "f9fff360",
   "metadata": {
    "scrolled": true
   },
   "outputs": [],
   "source": [
    "Z = np.linspace(1e-10, 0.11, 100)\n",
    "L_limit = [L_lim(z) for z in Z]"
   ]
  },
  {
   "cell_type": "code",
   "execution_count": 70,
   "id": "7ee609fe",
   "metadata": {},
   "outputs": [],
   "source": [
    "fig, ax = plt.subplots(1,1, figsize=(8,4))\n",
    "ax.scatter(*data[['log L rel', 'z helio']].values.T,\n",
    "           s=1, alpha=0.5, ec='none',color='C0')\n",
    "\n",
    "ax.scatter(*data[data['select']==1][['log L rel', 'z helio']].values.T,\n",
    "           s=1, alpha=0.5, ec='none',color='C2')\n",
    "ax.plot(L_limit, Z, color='black')\n",
    "ax.fill_betweenx(Z, L_limit, [38] * 100, ec='none',alpha=0, hatch='/')\n",
    "ax.set_ylim([0, 0.11])\n",
    "ax.set_xlim([38, 45])\n",
    "ax.set_xlabel(\"$\\log [L/(\\mathrm{erg/s})]$\")\n",
    "ax.set_ylabel(\"$z$\")\n",
    "ax.annotate(\"$b_j>18$\", (40, 0.06), bbox=dict(boxstyle=\"square\", fc=\"w\",ec='r'), fontsize=18)\n",
    "plt.tight_layout()\n",
    "fig.savefig(\"obs and not obs.jpeg\",dpi=300)"
   ]
  },
  {
   "cell_type": "code",
   "execution_count": 72,
   "id": "315e983b",
   "metadata": {},
   "outputs": [
    {
     "name": "stderr",
     "output_type": "stream",
     "text": [
      "C:\\Users\\ASUS\\anaconda3\\lib\\site-packages\\pandas\\core\\indexing.py:1667: SettingWithCopyWarning: \n",
      "A value is trying to be set on a copy of a slice from a DataFrame.\n",
      "Try using .loc[row_indexer,col_indexer] = value instead\n",
      "\n",
      "See the caveats in the documentation: https://pandas.pydata.org/pandas-docs/stable/user_guide/indexing.html#returning-a-view-versus-a-copy\n",
      "  self.obj[key] = value\n"
     ]
    }
   ],
   "source": [
    "from scipy.special import gamma\n",
    "from scipy.integrate import nquad\n",
    "def phi(L, alpha, L_star):\n",
    "    return (L/L_star) ** alpha * np.exp(-L/L_star)\n",
    "def p(L, dVdz, alpha, L_star):\n",
    "    return phi(L, alpha, L_star) * dVdz\n",
    "\n",
    "def x_max(z):\n",
    "    return (-12.69 + 5 * np.log10((cosmo.luminosity_distance(z).to(u.pc)/(10 * u.pc)).value) \\\n",
    "    + 2.6 * z + 4.3 * z ** 2)/2.5\n",
    "\n",
    "z_range = [0, 0.11]\n",
    "def x_range(z):\n",
    "    return [0, x_max(z)]\n",
    "def int_term(alpha, L_star_rel):\n",
    "    return (1/L_star_rel)**(alpha+1) * np.log(10)/gamma(alpha+1) * \\\n",
    "      nquad(lambda x, z: 10**((alpha+1) * x)*np.exp(-10**x /L_star_rel)* \\\n",
    "      ((cosmo.differential_comoving_volume(z)* 17046 *u.deg * u.deg).to(u.mpc ** 3)/(1e36 * u.mpc ** 3)).value,\n",
    "                                                            [x_range, z_range])[0]\n",
    "n = len(data)\n",
    "\n",
    "data.loc[:, 'log dVdz'] = data['dVdz'].map(np.log10)\n",
    "log10e = np.log10(np.e)\n",
    "sum_log_V = sum(data['log dVdz'].values)\n",
    "def P_obs(alpha, L_star):\n",
    "    return -n * np.log10(L_star*gamma(alpha+1)) + sum_log_V +\\\n",
    "    np.sum( data['L rel to sun'].map(lambda l: alpha * np.log10(l/L_star) - log10e * l/L_star).values)\n",
    "#np.sum(np.array(list(map(lambda L, dVdz: alpha * np.log10(L/L_star) - np.log10(np.e) * L/L_star + \\\n",
    "#                                  np.log10(dVdz), *data[['L rel to sun', 'dVdz']].values.T))))\n",
    "\n",
    "def P(alpha, L_star, N):\n",
    "    return 1/2 * np.log10(N) + N * (np.log(N)-1) - 1/2 * np.log10(N-n) + (N-n) * (np.log(N-n)-1) \\\n",
    "                + P_obs(alpha, L_star) + (N-n) * np.log10(int_term(alpha, L_star/3.828e+33))"
   ]
  },
  {
   "cell_type": "code",
   "execution_count": 79,
   "id": "96a69ddf",
   "metadata": {},
   "outputs": [],
   "source": [
    "alphas = np.linspace(-0.99, 0., 15)\n",
    "L_stars = np.logspace(40, 45, 15)\n",
    "res11 = np.zeros((15, 15))\n",
    "for i in range(15):\n",
    "    for j in range(15):\n",
    "        res11[i, j] = P(alphas[i], L_stars[j],  10 * n)\n"
   ]
  },
  {
   "cell_type": "code",
   "execution_count": 80,
   "id": "d96c1c16",
   "metadata": {},
   "outputs": [],
   "source": [
    "np.save('res11.npy', res11)"
   ]
  },
  {
   "cell_type": "code",
   "execution_count": 81,
   "id": "59a6bd38",
   "metadata": {},
   "outputs": [
    {
     "data": {
      "text/plain": [
       "1329364583.0933824"
      ]
     },
     "execution_count": 81,
     "metadata": {},
     "output_type": "execute_result"
    }
   ],
   "source": [
    "(np.exp(res11/1e10+27)/4e2).max()"
   ]
  },
  {
   "cell_type": "code",
   "execution_count": 82,
   "id": "a7caacee",
   "metadata": {},
   "outputs": [
    {
     "data": {
      "text/plain": [
       "1329526289.3400588"
      ]
     },
     "execution_count": 82,
     "metadata": {},
     "output_type": "execute_result"
    }
   ],
   "source": [
    "(np.exp(res9/1e10+27)/4e2).max()"
   ]
  },
  {
   "cell_type": "code",
   "execution_count": null,
   "id": "56abefbc",
   "metadata": {},
   "outputs": [],
   "source": []
  }
 ],
 "metadata": {
  "kernelspec": {
   "display_name": "Python 3 (ipykernel)",
   "language": "python",
   "name": "python3"
  },
  "language_info": {
   "codemirror_mode": {
    "name": "ipython",
    "version": 3
   },
   "file_extension": ".py",
   "mimetype": "text/x-python",
   "name": "python",
   "nbconvert_exporter": "python",
   "pygments_lexer": "ipython3",
   "version": "3.9.7"
  }
 },
 "nbformat": 4,
 "nbformat_minor": 5
}
